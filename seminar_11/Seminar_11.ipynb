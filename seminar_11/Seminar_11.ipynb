{
 "cells": [
  {
   "cell_type": "raw",
   "id": "0ed25416",
   "metadata": {},
   "source": [
    "f(x) = 5x^2 + 10x - 30\n",
    "\n",
    "1. Определить корни\n",
    "2. Найти интервалы, на которых функция возрастает\n",
    "3. Найти интервалы, на которых функция убывает\n",
    "4. Построить график\n",
    "5. Вычислить вершину\n",
    "6. Определить промежутки, на котором f > 0\n",
    "7. Определить промежутки, на котором f < 0"
   ]
  },
  {
   "cell_type": "code",
   "execution_count": 1,
   "id": "3f24ace0",
   "metadata": {},
   "outputs": [],
   "source": [
    "import sympy\n",
    "import matplotlib.pyplot as plt"
   ]
  },
  {
   "cell_type": "code",
   "execution_count": 1,
   "id": "9cb6de7b",
   "metadata": {},
   "outputs": [
    {
     "ename": "NameError",
     "evalue": "name 'sympy' is not defined",
     "output_type": "error",
     "traceback": [
      "\u001b[1;31m---------------------------------------------------------------------------\u001b[0m",
      "\u001b[1;31mNameError\u001b[0m                                 Traceback (most recent call last)",
      "Cell \u001b[1;32mIn [1], line 3\u001b[0m\n\u001b[0;32m      1\u001b[0m \u001b[38;5;28;01mfrom\u001b[39;00m \u001b[38;5;21;01msympy\u001b[39;00m \u001b[38;5;28;01mimport\u001b[39;00m N\n\u001b[1;32m----> 3\u001b[0m x \u001b[38;5;241m=\u001b[39m \u001b[43msympy\u001b[49m\u001b[38;5;241m.\u001b[39msymbols(\u001b[38;5;124m'\u001b[39m\u001b[38;5;124mx\u001b[39m\u001b[38;5;124m'\u001b[39m)\n\u001b[0;32m      4\u001b[0m roots \u001b[38;5;241m=\u001b[39m sympy\u001b[38;5;241m.\u001b[39msolve(\u001b[38;5;241m5\u001b[39m\u001b[38;5;241m*\u001b[39mx\u001b[38;5;241m*\u001b[39m\u001b[38;5;241m*\u001b[39m\u001b[38;5;241m2\u001b[39m \u001b[38;5;241m+\u001b[39m \u001b[38;5;241m10\u001b[39m\u001b[38;5;241m*\u001b[39mx \u001b[38;5;241m-\u001b[39m \u001b[38;5;241m30\u001b[39m)\n\u001b[0;32m      5\u001b[0m \u001b[38;5;66;03m# list(map(N,growing_set))\u001b[39;00m\n",
      "\u001b[1;31mNameError\u001b[0m: name 'sympy' is not defined"
     ]
    }
   ],
   "source": [
    "from sympy import N\n",
    "\n",
    "x = sympy.symbols('x')\n",
    "roots = sympy.solve(5*x**2 + 10*x - 30)\n",
    "# list(map(N,growing_set))\n",
    "list(map(N,roots))\n",
    "\n",
    "# Определение корней"
   ]
  },
  {
   "cell_type": "raw",
   "id": "d5313ba7",
   "metadata": {},
   "source": [
    "# extrem = -b/2a - точка экстремума по оси x"
   ]
  },
  {
   "cell_type": "code",
   "execution_count": 3,
   "id": "4f6d20a2",
   "metadata": {},
   "outputs": [
    {
     "data": {
      "text/plain": [
       "-1.0"
      ]
     },
     "execution_count": 3,
     "metadata": {},
     "output_type": "execute_result"
    }
   ],
   "source": [
    "extrem = -10/(2*5)\n",
    "extrem\n",
    "\n",
    "# Нахождение экстремума"
   ]
  },
  {
   "cell_type": "raw",
   "id": "5eab9dfd",
   "metadata": {},
   "source": [
    "# точка экстремума по оси y"
   ]
  },
  {
   "cell_type": "code",
   "execution_count": 10,
   "id": "2548440f",
   "metadata": {},
   "outputs": [
    {
     "data": {
      "text/latex": [
       "$\\displaystyle -35$"
      ],
      "text/plain": [
       "-35"
      ]
     },
     "execution_count": 10,
     "metadata": {},
     "output_type": "execute_result"
    }
   ],
   "source": [
    "from sympy import Interval, Symbol, minimum, S\n",
    "\n",
    "minimum((5*x**2 + 10*x - 30), x, S.Reals)"
   ]
  },
  {
   "cell_type": "code",
   "execution_count": null,
   "id": "1739409d",
   "metadata": {},
   "outputs": [],
   "source": [
    "# Альтернативное нахождение эктремума\n",
    "# def high_point(a, b, c):\n",
    "# x = -b/(2*a)\n",
    "# y = a*x**2+b*x+c\n",
    "# return [x, y]\n",
    "\n",
    "# print(high_point(5, 10, -30))"
   ]
  },
  {
   "cell_type": "code",
   "execution_count": 8,
   "id": "6ab95938",
   "metadata": {},
   "outputs": [
    {
     "data": {
      "text/plain": [
       "True"
      ]
     },
     "execution_count": 8,
     "metadata": {},
     "output_type": "execute_result"
    }
   ],
   "source": [
    "from sympy import is_decreasing\n",
    "from sympy.abc import x, y\n",
    "from sympy import S, Interval, oo\n",
    "\n",
    "is_decreasing((5*x**2 + 10*x - 30), Interval.open(-oo, extrem))\n",
    "\n",
    "# Функция убывает от минус бесконечности до точки экстремума (-1)"
   ]
  },
  {
   "cell_type": "code",
   "execution_count": 9,
   "id": "2d657708",
   "metadata": {},
   "outputs": [
    {
     "data": {
      "text/plain": [
       "False"
      ]
     },
     "execution_count": 9,
     "metadata": {},
     "output_type": "execute_result"
    }
   ],
   "source": [
    "from sympy import is_decreasing\n",
    "from sympy.abc import x, y\n",
    "from sympy import S, Interval, oo\n",
    "\n",
    "is_decreasing((5*x**2 + 10*x - 30), Interval.open(extrem, oo))\n",
    "\n",
    "# Функция возрастает от точки экстремума (-1) до плюс бесконечности"
   ]
  },
  {
   "cell_type": "code",
   "execution_count": 12,
   "id": "372bf01e",
   "metadata": {},
   "outputs": [
    {
     "data": {
      "image/png": "[encoded data removed]",
      "text/plain": [
       "<Figure size 1200x1200 with 1 Axes>"
      ]
     },
     "metadata": {},
     "output_type": "display_data"
    }
   ],
   "source": [
    "x = [(5*(x**2) + 10*x - 30) for x in range(-10, 11)]\n",
    "y = [y for y in range(-10, 11)]\n",
    "# plt.plot(y, x, 'r-')\n",
    "# plt.show()\n",
    "\n",
    "fig = plt.figure()\n",
    "ax = fig.add_subplot(2, 2, 4)\n",
    "ax.plot(y, x)\n",
    "ax.grid(axis = 'both')\n",
    "ax.set_title('axis = \"both\"')\n",
    "\n",
    "fig.set_figwidth(12)\n",
    "fig.set_figheight(12)\n",
    "\n",
    "plt.show()\n",
    "\n",
    "# Посттроение графика функции"
   ]
  },
  {
   "cell_type": "code",
   "execution_count": null,
   "id": "e6c9c3ef",
   "metadata": {},
   "outputs": [],
   "source": []
  }
 ],
 "metadata": {
  "kernelspec": {
   "display_name": "Python 3 (ipykernel)",
   "language": "python",
   "name": "python3"
  },
  "language_info": {
   "codemirror_mode": {
    "name": "ipython",
    "version": 3
   },
   "file_extension": ".py",
   "mimetype": "text/x-python",
   "name": "python",
   "nbconvert_exporter": "python",
   "pygments_lexer": "ipython3",
   "version": "3.10.6"
  }
 },
 "nbformat": 4,
 "nbformat_minor": 5
}
